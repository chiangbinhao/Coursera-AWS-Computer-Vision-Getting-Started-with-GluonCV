{
 "cells": [
  {
   "cell_type": "markdown",
   "metadata": {
    "deletable": false,
    "editable": false,
    "nbgrader": {
     "cell_type": "markdown",
     "checksum": "2085108a6091c114793be51ceac2cf03",
     "grade": false,
     "grade_id": "intro",
     "locked": true,
     "schema_version": 3,
     "solution": false
    }
   },
   "source": [
    "# Module 5 Lesson 3 Practice Assessment\n",
    "\n",
    "This lesson covered the import data concepts in deep learning models and the corresponding programming APIs in MXNet Gluon that we use when training these models. In particular, you learned how to define gluon `Datasets`, how to transform and preprocess those datasets with `vision.transforms` and how to feed the datasets into neural networks during training with gluon `DataLoaders`. This practice assessment will allow you to become familiar with these tools in preparation for building your first end to end deep learning training system in the next lesson."
   ]
  },
  {
   "cell_type": "code",
   "execution_count": null,
   "metadata": {
    "deletable": false,
    "editable": false,
    "nbgrader": {
     "cell_type": "code",
     "checksum": "f211f6b95b2708a4026c308bd2ef7129",
     "grade": false,
     "grade_id": "cell-359ed2e0f0c07249",
     "locked": true,
     "schema_version": 3,
     "solution": false,
     "task": false
    }
   },
   "outputs": [],
   "source": [
    "from mxnet import gluon\n",
    "from matplotlib import pyplot\n",
    "\n",
    "import os\n",
    "from pathlib import Path"
   ]
  },
  {
   "cell_type": "code",
   "execution_count": null,
   "metadata": {
    "deletable": false,
    "editable": false,
    "nbgrader": {
     "cell_type": "code",
     "checksum": "8ba9810fef314f0b410a6700dff3ec38",
     "grade": false,
     "grade_id": "cell-ede29ee7c7f314c3",
     "locked": true,
     "schema_version": 3,
     "solution": false,
     "task": false
    }
   },
   "outputs": [],
   "source": [
    "M5_DATA = Path(os.getenv('DATA_DIR', '../../data'), 'module_5')\n",
    "M5_IMAGES = Path(M5_DATA, 'images')\n",
    "M5_MODELS = Path(M5_DATA, 'models')"
   ]
  },
  {
   "cell_type": "markdown",
   "metadata": {
    "deletable": false,
    "editable": false,
    "nbgrader": {
     "cell_type": "markdown",
     "checksum": "1f15f31e520ce4168305a8b46ad70381",
     "grade": false,
     "grade_id": "cell-6cd60f076b928ffa",
     "locked": true,
     "schema_version": 3,
     "solution": false,
     "task": false
    }
   },
   "source": [
    "---\n",
    "## Question 1\n",
    "\n",
    "First, let's get a particular dataset for this exercise. We will be using the CIFAR10 dataset which is built-in in MXNet in the `gluon.data.vision.datasets` library.\n",
    "\n",
    "In the following cell you will complete the function definition so that it returns the CIFAR10 dataset from MXNet. The function should return both the training and the validation dataset. To make things more exciting, the function should examine both the training and validation dataset and return the index that corresponds to the first occurrence of each class in CIFAR10. \n",
    "\n",
    "For example, the first class (label) in the CIFAR10 training dataset is `6`, this corresponds to index `0` in the training dataset. For the remaining classes in the dataset, find the index in the training dataset where that class first occurs. Repeat the same process for the validation dataset. To summarize, the `get_cifar_10_dataset` function below should return 4 values. The CIFAR10 training dataset, the indices of the training dataset that correspond to the first occurrence of each class, The CIFAR10 validation dataset and the indices of the validation dataset that correspond to the first occurrence of each class.\n",
    "\n",
    "<font color='red'>**CAUTION!**</font>: Although the notebook interface has internet connectivity, the **autograders are not permitted to access the internet**. We have already downloaded the correct models and data for you to use so you don't need access to the internet. Set the `root` parameter to `M5_IMAGES` when using a preset dataset. Usually, in the real world, you have internet access, so setting the `root` parameter isn't required (and it's set to `~/.mxnet` by default)."
   ]
  },
  {
   "cell_type": "code",
   "execution_count": null,
   "metadata": {
    "deletable": false,
    "nbgrader": {
     "cell_type": "code",
     "checksum": "085a45de0124704a20c35075cc44a144",
     "grade": false,
     "grade_id": "dataset",
     "locked": false,
     "schema_version": 3,
     "solution": true
    }
   },
   "outputs": [],
   "source": [
    "def get_cifar10_dataset():\n",
    "    \"\"\"\n",
    "    Should create the cifar 10 network and identify the dataset index of the first time each new class appears\n",
    "    \n",
    "    :return: tuple of training and validation dataset as well as label indices\n",
    "    :rtype: (gluon.data.Dataset, dict[int:int], gluon.data.Dataset, dict[int:int])\n",
    "    \"\"\"\n",
    "    train_data = None\n",
    "    val_data = None\n",
    "    train_indices = {}\n",
    "    val_indicies = {}\n",
    "    \n",
    "    # Use `root=M5_IMAGES` for your dataset\n",
    "    \n",
    "    # YOUR CODE HERE\n",
    "    raise NotImplementedError()\n",
    "    \n",
    "    return train_data, train_indices, val_data, val_indices"
   ]
  },
  {
   "cell_type": "code",
   "execution_count": null,
   "metadata": {
    "deletable": false,
    "editable": false,
    "nbgrader": {
     "cell_type": "code",
     "checksum": "8ba21a6f5191fbefad5e730fc6c09865",
     "grade": true,
     "grade_id": "cell-45b64f058f5bfde6",
     "locked": true,
     "points": 3,
     "schema_version": 3,
     "solution": false,
     "task": false
    }
   },
   "outputs": [],
   "source": [
    "_, _, v, i = get_cifar10_dataset()\n",
    "\n",
    "assert isinstance(v, gluon.data.vision.datasets.CIFAR10)\n",
    "for k in range(10):\n",
    "    assert v[i[k]][1] == k"
   ]
  },
  {
   "cell_type": "markdown",
   "metadata": {
    "deletable": false,
    "editable": false,
    "nbgrader": {
     "cell_type": "markdown",
     "checksum": "d20f29955f444a924d9f70dd245f3591",
     "grade": false,
     "grade_id": "cell-43ee1657d75563e4",
     "locked": true,
     "schema_version": 3,
     "solution": false,
     "task": false
    }
   },
   "source": [
    "Now we can visualize what classes are present in the CIFAR10 dataset. If your implementation for `get_cifar_10` dataset is correct, the code cell below should plot two rows of images. Take a look at the first row, do you recognize some of the classes there? Compare images from the same class labels in the first row to the second row. Do the validation images look like they belong to the same class?"
   ]
  },
  {
   "cell_type": "code",
   "execution_count": null,
   "metadata": {
    "deletable": false,
    "editable": false,
    "nbgrader": {
     "cell_type": "code",
     "checksum": "286d6fb84ee07cf2851b55ef4713ed16",
     "grade": false,
     "grade_id": "cell-b7e129d1377cd465",
     "locked": true,
     "schema_version": 3,
     "solution": false,
     "task": false
    }
   },
   "outputs": [],
   "source": [
    "def plot_cifar10_classes(train_data, train_indices, val_data, val_indices):\n",
    "    def plot_class_images(data, indices, title):\n",
    "        fig, axes = pyplot.subplots(1,10, figsize=(20, 4))\n",
    "        fig.suptitle(title, fontsize=20)\n",
    "        for ax, idx in zip(axes, indices):\n",
    "            ax.imshow(data[indices[idx]][0].asnumpy())\n",
    "            ax.set_title('Class {}'.format(idx))\n",
    "    plot_class_images(train_data, train_indices, 'CIFAR 10 Training data')\n",
    "    plot_class_images(val_data, val_indices, 'CIFAR 10 Validation data')\n",
    "        \n",
    "plot_cifar10_classes(*get_cifar10_dataset())"
   ]
  },
  {
   "cell_type": "markdown",
   "metadata": {
    "deletable": false,
    "editable": false,
    "nbgrader": {
     "cell_type": "markdown",
     "checksum": "df545b481a3a13de378cdf4e3a56d4e3",
     "grade": false,
     "grade_id": "cell-801f3a8bd30d42c9",
     "locked": true,
     "schema_version": 3,
     "solution": false,
     "task": false
    }
   },
   "source": [
    "## Question 2\n",
    "\n",
    "Now let's define some transformations on our training dataset. In the section below you will write code for two functions - one for the training transformation and one for the validation transformation.\n",
    "\n",
    "For the training transformation, the transform function should perform the following transforms:\n",
    "\n",
    "* `RandomFlipLeftRight`\n",
    "* `RandomCrop` to size 16 x 16\n",
    "\n",
    "For the validation transformation, the transform function should perform only this the following transform:\n",
    "\n",
    "* `CenterCrop` to size 16 x 16\n",
    "\n",
    "This is representative of transformations that might be used when training deep models. The random flips and random crops provide data augmentation that can help our final trained model generalize better. However in order to evaluate the performance of the trained model in a repeatable fashion, we do not apply random transforms on the validation data.\n",
    "\n",
    "Implement both functions below and execute the cell before moving on."
   ]
  },
  {
   "cell_type": "code",
   "execution_count": null,
   "metadata": {
    "deletable": false,
    "nbgrader": {
     "cell_type": "code",
     "checksum": "f2762dac59533707bb1860c86cfd58c5",
     "grade": false,
     "grade_id": "transforms",
     "locked": false,
     "schema_version": 3,
     "solution": true
    }
   },
   "outputs": [],
   "source": [
    "from mxnet.gluon.data.vision import transforms\n",
    "\n",
    "def transform_cifar10_dataset_train():\n",
    "    \"\"\"\n",
    "    Should create a transformation that performs both random horizontal flip and random crop\n",
    "    \n",
    "    :return: A gluon transform object\n",
    "    :rtype: gluon.Block\n",
    "    \"\"\"\n",
    "    \n",
    "    # YOUR CODE HERE\n",
    "    raise NotImplementedError()\n",
    "\n",
    "def transform_cifar10_dataset_val():\n",
    "    \"\"\"\n",
    "    Should create a transformation that performs center cropping\n",
    "    \n",
    "    :return: A gluon transform object\n",
    "    :rtype: gluon.Block\n",
    "    \"\"\"\n",
    "    \n",
    "    # YOUR CODE HERE\n",
    "    raise NotImplementedError()"
   ]
  },
  {
   "cell_type": "code",
   "execution_count": null,
   "metadata": {
    "deletable": false,
    "editable": false,
    "nbgrader": {
     "cell_type": "code",
     "checksum": "01e58de127fe9424d2ceabeeee3a0d86",
     "grade": true,
     "grade_id": "cell-57ea0a4606874ada",
     "locked": true,
     "points": 3,
     "schema_version": 3,
     "solution": false,
     "task": false
    }
   },
   "outputs": [],
   "source": [
    "assert isinstance(transform_cifar10_dataset_train(), transforms.Compose)\n",
    "assert isinstance(transform_cifar10_dataset_val(), transforms.CenterCrop)\n",
    "\n",
    "assert isinstance(transform_cifar10_dataset_train()[0], transforms.RandomFlipLeftRight)\n",
    "assert isinstance(transform_cifar10_dataset_train()[1], transforms.RandomResizedCrop)"
   ]
  },
  {
   "cell_type": "markdown",
   "metadata": {
    "deletable": false,
    "editable": false,
    "nbgrader": {
     "cell_type": "markdown",
     "checksum": "6bc5b381c984113b5a836a9c114c2e28",
     "grade": false,
     "grade_id": "cell-6fffd482025432fd",
     "locked": true,
     "schema_version": 3,
     "solution": false,
     "task": false
    }
   },
   "source": [
    "Again we can visualize the results of both our training and validation transformation functions. If you correctly implemented the two functions above, then you the cell below should produces two rows just as in Question 1.\n",
    "\n",
    "However, now the images should be a bit more pixelated due to the cropping. Can you still recognize the objects in the images. Can you identify which images have been flipped and which haven't? It might help to compare to the previous visualizations."
   ]
  },
  {
   "cell_type": "code",
   "execution_count": null,
   "metadata": {
    "deletable": false,
    "editable": false,
    "nbgrader": {
     "cell_type": "code",
     "checksum": "01a7ffad0468cd6ea6b5c89fbeb7ddfb",
     "grade": false,
     "grade_id": "cell-47331cc63ad50233",
     "locked": true,
     "schema_version": 3,
     "solution": false,
     "task": false
    }
   },
   "outputs": [],
   "source": [
    "def plot_transformed_cifar_10_classes(train_data, train_indices, val_data, val_indices, train_transform, val_transform):\n",
    "    train_data = train_data.transform_first(train_transform)\n",
    "    val_data = val_data.transform_first(val_transform)\n",
    "    plot_cifar10_classes(train_data, train_indices, val_data, val_indices)\n",
    "    \n",
    "plot_transformed_cifar_10_classes(*get_cifar10_dataset(), transform_cifar10_dataset_train(), transform_cifar10_dataset_val())"
   ]
  },
  {
   "cell_type": "markdown",
   "metadata": {
    "deletable": false,
    "editable": false,
    "nbgrader": {
     "cell_type": "markdown",
     "checksum": "7681a3d264b2f72630ce66688ea3e1a1",
     "grade": false,
     "grade_id": "cell-1bd8e74451a8fa11",
     "locked": true,
     "schema_version": 3,
     "solution": false,
     "task": false
    }
   },
   "source": [
    "---\n",
    "## Question 3\n",
    "\n",
    "Finally, you will implement a function that takes in a dataset, a transform function and `batch_size` and returns a `gluon.data.DataLoader`. Similar to Question 2, you will implement two versions of this function - one to generate the training dataloader and the other to generate the test dataloader. Make sure that training dataloader shuffles the training dataset but the validation dataset should not shuffle the validation dataset. Once you have completed the function implementations move on to the next cell to visualize how the dataloader would function during model training."
   ]
  },
  {
   "cell_type": "code",
   "execution_count": null,
   "metadata": {
    "deletable": false,
    "nbgrader": {
     "cell_type": "code",
     "checksum": "3c3d1cf8852b2c39a9585e092cac536a",
     "grade": false,
     "grade_id": "dataloader",
     "locked": false,
     "schema_version": 3,
     "solution": true,
     "task": false
    }
   },
   "outputs": [],
   "source": [
    "def get_train_dataloader(train_dataset, train_transform, batch_size):\n",
    "    \"\"\"\n",
    "    Should create a dataloader for training\n",
    "    \n",
    "    :param train_dataset: the dataset\n",
    "    :type train_dataset: gluon.data.Dataset\n",
    "    \n",
    "    :param train_transform: the transform function\n",
    "    :type train_transform: gluon.Block\n",
    "    \n",
    "    :param batch_size: batch size\n",
    "    :type batch_size: int\n",
    "    \n",
    "    :return: A gluon dataloader\n",
    "    :rtype: gluon.data.DataLoader\n",
    "    \"\"\"\n",
    "    \n",
    "    # YOUR CODE HERE\n",
    "    raise NotImplementedError()\n",
    "    \n",
    "def get_val_dataloader(val_dataset, val_transform, batch_size):\n",
    "    \"\"\"\n",
    "    Should create a dataloader for validation\n",
    "    \n",
    "    :param val_dataset: the dataset\n",
    "    :type val_dataset: gluon.data.Dataset\n",
    "    \n",
    "    :param val_transform: the transform function\n",
    "    :type val_transform: gluon.Block\n",
    "    \n",
    "    :param batch_size: batch size\n",
    "    :type batch_size: int\n",
    "    \n",
    "    :return: A gluon dataloader\n",
    "    :rtype: gluon.data.DataLoader\n",
    "    \"\"\"\n",
    "    \n",
    "    # YOUR CODE HERE\n",
    "    raise NotImplementedError()"
   ]
  },
  {
   "cell_type": "code",
   "execution_count": null,
   "metadata": {
    "deletable": false,
    "editable": false,
    "nbgrader": {
     "cell_type": "code",
     "checksum": "d39637f9ad7ccca5cb94442a82344fa2",
     "grade": true,
     "grade_id": "cell-7de9f040506452ff",
     "locked": true,
     "points": 4,
     "schema_version": 3,
     "solution": false,
     "task": false
    }
   },
   "outputs": [],
   "source": [
    "batch_size = 128\n",
    "train_set, _, val_set, _ = get_cifar10_dataset()\n",
    "train_dataloader = get_train_dataloader(train_set, transform_cifar10_dataset_train(), batch_size)\n",
    "val_dataloader = get_val_dataloader(val_set, transform_cifar10_dataset_val(), batch_size)\n",
    "\n",
    "assert isinstance(train_dataloader, gluon.data.DataLoader)\n",
    "assert isinstance(val_dataloader, gluon.data.DataLoader)\n",
    "\n",
    "d, l = next(iter(train_dataloader))\n",
    "assert d.shape == (128, 16, 16, 3) # check Channel First and Batch Size\n",
    "assert l.shape == (128,)"
   ]
  },
  {
   "cell_type": "markdown",
   "metadata": {
    "deletable": false,
    "editable": false,
    "nbgrader": {
     "cell_type": "markdown",
     "checksum": "973e69614a8638f9515806e403135389",
     "grade": false,
     "grade_id": "cell-7beab9f627e1e7a5",
     "locked": true,
     "schema_version": 3,
     "solution": false,
     "task": false
    }
   },
   "source": [
    "Now we will bring everything together into one final visualization. Instead of plotting only a single representative for CIFAR10 class, now we'll display every single image in the dataset using the dataloader. If your implementation of the two functions above is correct, the cell below should display first the entire training dataset batch by batch and then the validation set batch by batch. If you look closely, you will see that some images in each mini-batch of training data have the transformations we defined earlier apply to them.\n",
    "\n",
    "**Note:** The next cell could take a long time to finish execution. Feel free to stop the cell execution whenever you feel like."
   ]
  },
  {
   "cell_type": "code",
   "execution_count": null,
   "metadata": {
    "deletable": false,
    "editable": false,
    "nbgrader": {
     "cell_type": "code",
     "checksum": "f2ef4f37b42aca246bb4acac8b4e28c4",
     "grade": false,
     "grade_id": "cell-bc558b64f1aff938",
     "locked": true,
     "schema_version": 3,
     "solution": false,
     "task": false
    }
   },
   "outputs": [],
   "source": [
    "import time\n",
    "from IPython import display\n",
    "\n",
    "def plot_cifar10_dataloading(train_dataloader, val_dataloader, batch_size, end=3):\n",
    "    def plot_batch_images(dataloader, title):\n",
    "        def plot_single_batch(data, label):\n",
    "            for j in range(batch_size):\n",
    "                row, col = j//16, j%16\n",
    "                axis = axes[row][col]\n",
    "                axis.imshow(data[j, :,:,:].asnumpy())\n",
    "                axis.set_title('Label {}'.format(label[j].asscalar()))\n",
    "                axis.get_xaxis().set_visible(False)\n",
    "                axis.get_yaxis().set_visible(False)\n",
    "                \n",
    "        \n",
    "        fig, axes = pyplot.subplots(8,batch_size//8, figsize=(batch_size//8, 10))\n",
    "        for i, (data, label) in enumerate(dataloader):\n",
    "            if (i == end):\n",
    "                return\n",
    "            fig.suptitle(title.format(i), fontsize=20)\n",
    "            plot_single_batch(data, label)\n",
    "            display.clear_output(wait=True)\n",
    "            display.display(pyplot.gcf())\n",
    "            time.sleep(0.1)\n",
    "            \n",
    "    plot_batch_images(train_dataloader, 'Batch at iteration {} of CIFAR 10 Training data')\n",
    "    plot_batch_images(val_dataloader, 'Batch at iteration {} of CIFAR 10 Validation data')\n",
    "    \n",
    "\n",
    "batch_size = 128\n",
    "train_set, _, val_set, _ = get_cifar10_dataset()\n",
    "train_dataloader = get_train_dataloader(train_set, transform_cifar10_dataset_train(), batch_size)\n",
    "val_dataloader = get_val_dataloader(val_set, transform_cifar10_dataset_val(), batch_size)\n",
    "plot_cifar10_dataloading(train_dataloader, val_dataloader, batch_size)"
   ]
  }
 ],
 "metadata": {
  "coursera": {
   "assignment_name": "module_5_practice_1",
   "assignment_version": 2,
   "course_slug": "aws-computer-vision-gluoncv",
   "graded_item_id": "FZLkh",
   "launcher_item_id": "efsIX"
  },
  "kernelspec": {
   "display_name": "Python 3",
   "language": "python",
   "name": "python3"
  },
  "language_info": {
   "codemirror_mode": {
    "name": "ipython",
    "version": 3
   },
   "file_extension": ".py",
   "mimetype": "text/x-python",
   "name": "python",
   "nbconvert_exporter": "python",
   "pygments_lexer": "ipython3",
   "version": "3.7.3"
  }
 },
 "nbformat": 4,
 "nbformat_minor": 1
}
